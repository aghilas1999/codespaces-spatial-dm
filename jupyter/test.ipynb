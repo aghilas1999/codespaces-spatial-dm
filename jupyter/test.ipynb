{
 "cells": [
  {
   "cell_type": "code",
   "execution_count": 1,
   "metadata": {},
   "outputs": [
    {
     "name": "stderr",
     "output_type": "stream",
     "text": [
      "c:\\Users\\aghil\\anaconda3\\envs\\geopy\\lib\\site-packages\\geoviews\\operation\\__init__.py:14: HoloviewsDeprecationWarning: 'ResamplingOperation' is deprecated and will be removed in version 1.18, use 'ResampleOperation2D' instead.\n",
      "  from holoviews.operation.datashader import (\n"
     ]
    }
   ],
   "source": [
    "import numpy as np\n",
    "import pandas as pd\n",
    "import matplotlib.pyplot as plt\n",
    "import seaborn\n",
    "import scipy\n",
    "import shapely\n",
    "import fiona\n",
    "import geopandas as gpd\n",
    "import pysal\n",
    "import cartopy\n",
    "import mapclassify\n",
    "import rasterio\n",
    "import rasterstats\n",
    "import earthpy\n",
    "import geoplot\n",
    "import geoviews\n",
    "import folium\n",
    "try:\n",
    "    import gdal\n",
    "except ImportError:\n",
    "    from osgeo import gdal"
   ]
  },
  {
   "cell_type": "code",
   "execution_count": 2,
   "metadata": {},
   "outputs": [
    {
     "name": "stdout",
     "output_type": "stream",
     "text": [
      "POINT (2.2 4.2)\n",
      "POINT Z (9.26 -2.456 0.57)\n",
      "<class 'shapely.geometry.point.Point'>\n"
     ]
    }
   ],
   "source": [
    "# Import necessary geometric objects from shapely module\n",
    "from shapely.geometry import Point, LineString, Polygon\n",
    "\n",
    "# Create Point geometric object(s) with coordinates\n",
    "point1 = Point(2.2, 4.2)\n",
    "point2 = Point(7.2, -25.1)\n",
    "point3 = Point(9.26, -2.456)\n",
    "\n",
    "point3D = Point(9.26, -2.456, 0.57)\n",
    "\n",
    "# What is the type of the point?\n",
    "point_type = type(point1)\n",
    "\n",
    "# Print point information\n",
    "print(point1)\n",
    "\n",
    "print(point3D)\n",
    "\n",
    "print(type(point1))"
   ]
  },
  {
   "cell_type": "code",
   "execution_count": 3,
   "metadata": {},
   "outputs": [
    {
     "name": "stdout",
     "output_type": "stream",
     "text": [
      "2.2\n",
      "4.2\n",
      "<class 'shapely.coords.CoordinateSequence'>\n",
      "(array('d', [2.2]), array('d', [4.2]))\n"
     ]
    }
   ],
   "source": [
    "# Get only x coordinates of Point1\n",
    "x = point1.x\n",
    "print(x)\n",
    "\n",
    "# Get only y coordinates of Point1\n",
    "y = point1.y\n",
    "print(y)\n",
    "\n",
    "# Get x and y coordinates\n",
    "point_coords = point1.coords\n",
    "print(type(point_coords))\n",
    "\n",
    "xy = point_coords.xy\n",
    "print(xy)"
   ]
  },
  {
   "cell_type": "code",
   "execution_count": 4,
   "metadata": {},
   "outputs": [
    {
     "name": "stdout",
     "output_type": "stream",
     "text": [
      "MULTIPOINT (1.45 0, 2 2, 0 2.5, 0 1.45)\n",
      "<class 'tuple'>\n",
      "(<shapely.geometry.point.Point object at 0x0000028A1DE0BD00>, <shapely.geometry.point.Point object at 0x0000028A23031BB0>)\n",
      "POINT (0 0)\n",
      "POINT (1.45 0)\n"
     ]
    }
   ],
   "source": [
    "from shapely.geometry import Point, MultiPoint\n",
    "from shapely.ops import nearest_points\n",
    "\n",
    "# Origin point\n",
    "orig = Point(0, 0)\n",
    "\n",
    "# Destination points\n",
    "dest1 = Point(0, 1.45)\n",
    "dest2 = Point(2, 2)\n",
    "dest3 = Point(0, 2.5)\n",
    "dest4 = Point(1.45, 0)\n",
    "\n",
    "destinations = MultiPoint([dest4, dest2, dest3, dest1])\n",
    "print(destinations)\n",
    "\n",
    "# Processing A nearest point from orig\n",
    "nearest_geoms = nearest_points(orig, destinations)\n",
    "print( type(nearest_geoms) )\n",
    "\n",
    "print(nearest_geoms)\n",
    "print(nearest_geoms[0])\n",
    "print(nearest_geoms[1])"
   ]
  },
  {
   "cell_type": "code",
   "execution_count": 5,
   "metadata": {},
   "outputs": [
    {
     "name": "stdout",
     "output_type": "stream",
     "text": [
      "LINESTRING (2.2 4.2, 7.2 -25.1, 9.26 -2.456)\n",
      "<class 'shapely.geometry.linestring.LineString'>\n",
      "LINESTRING (2.2 4.2, 7.2 -25.1, 9.26 -2.456)\n",
      "(array('d', [2.2, 7.2, 9.26]), array('d', [4.2, -25.1, -2.456]))\n",
      "array('d', [2.2, 7.2, 9.26])\n",
      "array('d', [4.2, -25.1, -2.456])\n",
      "Length of our line: 52.46\n",
      "Centroid of our line:  POINT (6.229961354035622 -11.89241115757239)\n",
      "Type of the centroid: <class 'shapely.geometry.point.Point'>\n"
     ]
    }
   ],
   "source": [
    "# Create a LineString from our Point objects\n",
    "line = LineString([point1, point2, point3])\n",
    "print(line)\n",
    "print( type(line) )\n",
    "\n",
    "# It is also possible to use coordinate tuples having the same outcome\n",
    "line2 = LineString([(2.2, 4.2), (7.2, -25.1), (9.26, -2.456)])\n",
    "print(line2)\n",
    "\n",
    "# Get x and y coordinates of the line (an array of array of double, where line.xy[0] correspond to abscisses and line.xy[0] to ordinates)\n",
    "lxy = line.xy\n",
    "print(lxy)\n",
    "\n",
    "# Extract x coordinates\n",
    "line_x = lxy[0]\n",
    "print(line_x)\n",
    "\n",
    "# Extract y coordinates \n",
    "line_y = line.xy[1]\n",
    "print(line_y)\n",
    "\n",
    "# Get the length of the line\n",
    "l_length = line.length\n",
    "print(\"Length of our line: {0:.2f}\".format(l_length))\n",
    "\n",
    "# Get the centroid of the line\n",
    "l_centroid = line.centroid\n",
    "print(\"Centroid of our line: \", l_centroid)\n",
    "\n",
    "# What type is the centroid? A point\n",
    "centroid_type = type(l_centroid)\n",
    "print(\"Type of the centroid:\", centroid_type)"
   ]
  },
  {
   "cell_type": "code",
   "execution_count": 6,
   "metadata": {},
   "outputs": [
    {
     "name": "stdout",
     "output_type": "stream",
     "text": [
      "Do lines intersect ?  True\n",
      "Do lines touch ?  True\n"
     ]
    }
   ],
   "source": [
    "from shapely.geometry import LineString, MultiLineString\n",
    "\n",
    "# Create two lines\n",
    "line_a = LineString([(0, 0), (1, 1)])\n",
    "line_b = LineString([(1, 1), (0, 2)])\n",
    "\n",
    "# Check if lines intersects\n",
    "lines_intersect = line_a.intersects(line_b)\n",
    "print(\"Do lines intersect ? \",lines_intersect)\n",
    "\n",
    "# Check if lines touches\n",
    "lines_touche = line_a.touches(line_b)\n",
    "print(\"Do lines touch ? \",lines_touche)"
   ]
  },
  {
   "cell_type": "code",
   "execution_count": 7,
   "metadata": {},
   "outputs": [
    {
     "name": "stdout",
     "output_type": "stream",
     "text": [
      "POLYGON ((2.2 4.2, 7.2 -25.1, 9.26 -2.456, 2.2 4.2))\n",
      "<class 'shapely.geometry.polygon.Polygon'>\n",
      "POLYGON ((2.2 4.2, 7.2 -25.1, 9.26 -2.456, 2.2 4.2))\n",
      "POLYGON ((2.2 4.2, 7.2 -25.1, 9.26 -2.456, 2.2 4.2))\n",
      "Poly centroid:  POLYGON ((2.2 4.2, 7.2 -25.1, 9.26 -2.456, 2.2 4.2))\n",
      "Poly Area:  86.789\n",
      "Poly Bounding Box:  POLYGON ((2.2 4.2, 7.2 -25.1, 9.26 -2.456, 2.2 4.2))\n",
      "Poly Exterior:  LINEARRING (2.2 4.2, 7.2 -25.1, 9.26 -2.456, 2.2 4.2)\n",
      "Poly Exterior Length:  62.16395199996553\n"
     ]
    }
   ],
   "source": [
    "# Create a Polygon from the coordinates\n",
    "poly = Polygon([(2.2, 4.2), (7.2, -25.1), (9.26, -2.456)])\n",
    "print(poly)\n",
    "print( type(poly) )\n",
    "\n",
    "# Create a Polygon from the points\n",
    "poly2 = Polygon([point1, point2, point3])\n",
    "print(poly2)\n",
    "\n",
    "# We can also use our previously created Point objects (same outcome)\n",
    "# --> notice that Polygon object requires x,y coordinates as input\n",
    "poly3 = Polygon([[p.x, p.y] for p in [point1, point2, point3]])\n",
    "print(poly3)\n",
    "\n",
    "# Get the centroid of the Polygon\n",
    "poly_centroid = poly.centroid\n",
    "print(\"Poly centroid: \", poly)\n",
    "\n",
    "# Get the area of the Polygon\n",
    "poly_area = poly.area\n",
    "print(\"Poly Area: \",poly_area)\n",
    "\n",
    "# Get the bounds of the Polygon (i.e. bounding box)\n",
    "poly_bbox = poly.bounds\n",
    "print(\"Poly Bounding Box: \",poly)\n",
    "\n",
    "# Get the exterior of the Polygon\n",
    "poly_ext = poly.exterior\n",
    "print(\"Poly Exterior: \", poly_ext)\n",
    "\n",
    "# Get the length of the exterior\n",
    "poly_ext_length = poly_ext.length\n",
    "print(\"Poly Exterior Length: \", poly_ext_length)"
   ]
  },
  {
   "cell_type": "code",
   "execution_count": 8,
   "metadata": {},
   "outputs": [
    {
     "name": "stdout",
     "output_type": "stream",
     "text": [
      "POINT (24.952242 60.1696017)\n",
      "POINT (24.976567 60.16125)\n",
      "POLYGON ((24.950899 60.169158, 24.953492 60.169158, 24.95351 60.170104, 24.950958 60.16999, 24.950899 60.169158))\n",
      "p1 is within the polygon : True\n",
      "poly contains p1 : True\n",
      "p2 is within the polygon : False\n",
      "poly contains p2 : False\n"
     ]
    }
   ],
   "source": [
    "from shapely.geometry import Point, Polygon\n",
    "\n",
    "# Create Point objects\n",
    "p1 = Point(24.952242, 60.1696017)\n",
    "p2 = Point(24.976567, 60.1612500)\n",
    "\n",
    "# Create a Polygon\n",
    "coords = [\n",
    "    (24.950899, 60.169158),\n",
    "    (24.953492, 60.169158),\n",
    "    (24.953510, 60.170104),\n",
    "    (24.950958, 60.169990),\n",
    "]\n",
    "poly = Polygon(coords)\n",
    "\n",
    "# Let's check what we have\n",
    "print(p1)\n",
    "print(p2)\n",
    "print(poly)\n",
    "\n",
    "# Check if p1 is within the polygon using the within function\n",
    "p1_within = p1.within(poly)\n",
    "print(\"p1 is within the polygon :\", p1_within)\n",
    "\n",
    "# Does polygon contain p1?\n",
    "contains_p1 = poly.contains(p1)\n",
    "print(\"poly contains p1 :\", contains_p1)\n",
    "\n",
    "# Check if p2 is within the polygon\n",
    "p2_within = p2.within(poly)\n",
    "print(\"p2 is within the polygon :\", p2_within)\n",
    "\n",
    "# Does polygon contain p2?\n",
    "contains_p2 = poly.contains(p2)\n",
    "print(\"poly contains p2 :\", contains_p2)"
   ]
  },
  {
   "cell_type": "code",
   "execution_count": 9,
   "metadata": {},
   "outputs": [
    {
     "name": "stdout",
     "output_type": "stream",
     "text": [
      "MULTIPOINT (2 2, 3 3)\n",
      "MULTILINESTRING ((2 2, 3 3), (4 3, 6 4))\n",
      "MULTIPOLYGON (((0 0, 0 4, 4 4, 0 0)), ((6 6, 6 12, 12 12, 6 6)))\n"
     ]
    }
   ],
   "source": [
    "from shapely.geometry import MultiPoint, MultiLineString, MultiPolygon\n",
    "\n",
    "# Create a collection of two points\n",
    "multipoint = MultiPoint([Point(2, 2), Point(3, 3)])\n",
    "print(multipoint)\n",
    "\n",
    "# Create a collection of two lines\n",
    "multiline = MultiLineString(\n",
    "    [LineString([(2, 2), (3, 3)]), LineString([(4, 3), (6, 4)])]\n",
    ")\n",
    "print(multiline)\n",
    "\n",
    "# Create a collection of two polygons\n",
    "multipoly = MultiPolygon(\n",
    "    [Polygon([(0, 0), (0, 4), (4, 4)]), Polygon([(6, 6), (6, 12), (12, 12)])]\n",
    ")\n",
    "print(multipoly)"
   ]
  },
  {
   "cell_type": "code",
   "execution_count": 10,
   "metadata": {},
   "outputs": [
    {
     "name": "stdout",
     "output_type": "stream",
     "text": [
      "Convex hull of the points:  LINESTRING (2 2, 3 3)\n",
      "Area of our MultiPolygon: 26.0\n",
      "Is polygon valid?:  True\n"
     ]
    }
   ],
   "source": [
    "# Convex Hull of our MultiPoint --> https://en.wikipedia.org/wiki/Convex_hull\n",
    "convex = multipoint.convex_hull\n",
    "print(\"Convex hull of the points: \", convex)\n",
    "\n",
    "# Let's calculate the area of our MultiPolygon\n",
    "multi_poly_area = multipoly.area\n",
    "print(\"Area of our MultiPolygon:\", multi_poly_area)\n",
    "\n",
    "# We can check if we have a \"valid\" MultiPolygon. MultiPolygon is thought as valid if the individual polygons does not intersect with each other. This can be really useful information when trying to find topological errors from your data\n",
    "valid = multipoly.is_valid\n",
    "print(\"Is polygon valid?: \", valid)"
   ]
  }
 ],
 "metadata": {
  "kernelspec": {
   "display_name": "geopy",
   "language": "python",
   "name": "python3"
  },
  "language_info": {
   "codemirror_mode": {
    "name": "ipython",
    "version": 3
   },
   "file_extension": ".py",
   "mimetype": "text/x-python",
   "name": "python",
   "nbconvert_exporter": "python",
   "pygments_lexer": "ipython3",
   "version": "3.8.15"
  }
 },
 "nbformat": 4,
 "nbformat_minor": 2
}
